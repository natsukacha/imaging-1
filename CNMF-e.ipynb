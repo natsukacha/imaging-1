{
 "cells": [
  {
   "cell_type": "code",
   "execution_count": 5,
   "metadata": {},
   "outputs": [
    {
     "data": {
      "text/plain": [
       "'\\n\\n#a:def(a ∈ R^d) \\n\\nl  = 10\\nlx = 10\\nly = 10\\n\\n#WHILE文内\\n##################################################################################\\n#x* define arg max-x(L(x)・R(x))\\nLR = L(x)*R(x)\\nx_star = LR.argmax()\\nx_sc = x_star/265\\ny_sc = x_star/354\\n\\n###################################################################################\\n#Ωk define {x|2L+1 sraound x*}\\nomega=[]\\nif x_sc < l:\\n    l = x_sc\\nif y_sc < l:\\n    l =y_sc\\n    \\nif x_sc > 344:\\n    lx = (354-x_sc)\\nif y_sc > 255:\\n    ly = (255-x_sc)    \\n    \\nomega.append(data[x_sc-l1][y_sc-l1]:data[x_sc+l2][ysc+l2])\\n###################################################################################\\n#r(x) define corr (Z(x)・Z(x*))\\nr_x.append(r(x))\\n\\n####################################################################################\\nr_3 = [i for i in r_x if i < 0.3]\\nr_7 = [i for i in r_x if i < 0.7]\\n\\nY_bg =()/len(r_3)\\nC_k  =()/len(r_7)\\n\\n####################################################################################\\n# argmin a ,b_f,b_0 ||YΩk - (  (a・c_k^T)  +  (b_f・Y_bg^T)  +  (b_0・1^T)    ) ||^2    ##^Tは転置の意味\\n\\n####################################################################################\\n#\\nY = Y - (a_k*c_k^T)\\n'"
      ]
     },
     "execution_count": 5,
     "metadata": {},
     "output_type": "execute_result"
    }
   ],
   "source": [
    "#data=d*t\n",
    "#dを一本鎖にしたものをXとするXのサイズは長さのみで93810.\n",
    "\n",
    "\n",
    "\n",
    "#a:def(a ∈ R^d) \n",
    "\n",
    "l  = 10\n",
    "lx = 10\n",
    "ly = 10\n",
    "\n",
    "#WHILE文内\n",
    "##################################################################################\n",
    "#x* define arg max-x(L(x)・R(x))\n",
    "LR = L(x)*R(x)\n",
    "x_star = LR.argmax()\n",
    "x_sc = x_star/265\n",
    "y_sc = x_star/354\n",
    "\n",
    "###################################################################################\n",
    "#Ωk define {x|2L+1 sraound x*}\n",
    "omega=[]\n",
    "if x_sc < l:\n",
    "    l = x_sc\n",
    "if y_sc < l:\n",
    "    l =y_sc\n",
    "    \n",
    "if x_sc > 344:\n",
    "    lx = (354-x_sc)\n",
    "if y_sc > 255:\n",
    "    ly = (255-x_sc)    \n",
    "    \n",
    "omega.append(data[x_sc-l1][y_sc-l1]:data[x_sc+l2][ysc+l2])\n",
    "###################################################################################\n",
    "#r(x) define corr (Z(x)・Z(x*))\n",
    "r_x.append(r(x))\n",
    "\n",
    "####################################################################################\n",
    "r_3 = [i for i in r_x if i < 0.3]\n",
    "r_7 = [i for i in r_x if i < 0.7]\n",
    "\n",
    "Y_bg =()/len(r_3)\n",
    "C_k  =()/len(r_7)\n",
    "\n",
    "####################################################################################\n",
    "# argmin a ,b_f,b_0 ||YΩk - (  (a・c_k^T)  +  (b_f・Y_bg^T)  +  (b_0・1^T)    ) ||^2    ##^Tは転置の意味\n",
    "\n",
    "####################################################################################\n",
    "#\n",
    "Y = Y - (a_k*c_k^T)\n",
    "\n"
   ]
  },
  {
   "cell_type": "code",
   "execution_count": null,
   "metadata": {},
   "outputs": [],
   "source": []
  }
 ],
 "metadata": {
  "kernelspec": {
   "display_name": "Python 3",
   "language": "python",
   "name": "python3"
  },
  "language_info": {
   "codemirror_mode": {
    "name": "ipython",
    "version": 3
   },
   "file_extension": ".py",
   "mimetype": "text/x-python",
   "name": "python",
   "nbconvert_exporter": "python",
   "pygments_lexer": "ipython3",
   "version": "3.5.6"
  }
 },
 "nbformat": 4,
 "nbformat_minor": 2
}
