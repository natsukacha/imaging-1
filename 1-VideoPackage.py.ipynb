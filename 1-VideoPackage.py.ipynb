{
 "cells": [
  {
   "cell_type": "code",
   "execution_count": 66,
   "metadata": {},
   "outputs": [
    {
     "data": {
      "text/plain": [
       "'3.1.0'"
      ]
     },
     "execution_count": 66,
     "metadata": {},
     "output_type": "execute_result"
    }
   ],
   "source": [
    "import cv2\n",
    "import numpy as np\n",
    "import h5py\n",
    "from PIL import Image\n",
    "cv2.__version__"
   ]
  },
  {
   "cell_type": "code",
   "execution_count": null,
   "metadata": {},
   "outputs": [],
   "source": []
  },
  {
   "cell_type": "code",
   "execution_count": 12,
   "metadata": {},
   "outputs": [
    {
     "name": "stdout",
     "output_type": "stream",
     "text": [
      "Object\n"
     ]
    }
   ],
   "source": [
    "#ファイル読み込み\n",
    "hdfpath=\n",
    "with h5py.File(hdfpath,'r') as f:\n",
    "    # ファイルオブジェクトをイテレートするとファイル直下のオブジェクト名を返す\n",
    "    for k in f:\n",
    "        print(k)"
   ]
  },
  {
   "cell_type": "code",
   "execution_count": 4,
   "metadata": {},
   "outputs": [
    {
     "ename": "NameError",
     "evalue": "name 'h5py' is not defined",
     "output_type": "error",
     "traceback": [
      "\u001b[1;31m---------------------------------------------------------------------------\u001b[0m",
      "\u001b[1;31mNameError\u001b[0m                                 Traceback (most recent call last)",
      "\u001b[1;32m<ipython-input-4-4914d4d1f9bf>\u001b[0m in \u001b[0;36m<module>\u001b[1;34m()\u001b[0m\n\u001b[1;32m----> 1\u001b[1;33m \u001b[1;32mwith\u001b[0m \u001b[0mh5py\u001b[0m\u001b[1;33m.\u001b[0m\u001b[0mFile\u001b[0m\u001b[1;33m(\u001b[0m\u001b[0mhdfpath\u001b[0m\u001b[1;33m,\u001b[0m\u001b[1;34m'r'\u001b[0m\u001b[1;33m)\u001b[0m \u001b[1;32mas\u001b[0m \u001b[0mf\u001b[0m\u001b[1;33m:\u001b[0m\u001b[1;33m\u001b[0m\u001b[0m\n\u001b[0m\u001b[0;32m      2\u001b[0m     \u001b[1;31m# ファイルオブジェクトをイテレートするとファイル直下のオブジェクト名を返す\u001b[0m\u001b[1;33m\u001b[0m\u001b[1;33m\u001b[0m\u001b[0m\n\u001b[0;32m      3\u001b[0m     \u001b[1;31m#for k in f:\u001b[0m\u001b[1;33m\u001b[0m\u001b[1;33m\u001b[0m\u001b[0m\n\u001b[0;32m      4\u001b[0m     \u001b[0mprint\u001b[0m\u001b[1;33m(\u001b[0m\u001b[1;34m\"多次元配列表示\"\u001b[0m\u001b[1;33m)\u001b[0m\u001b[1;31m#次元数注意\u001b[0m\u001b[1;33m\u001b[0m\u001b[0m\n\u001b[0;32m      5\u001b[0m     \u001b[0mdata\u001b[0m\u001b[1;33m=\u001b[0m\u001b[0mf\u001b[0m\u001b[1;33m[\u001b[0m\u001b[1;34m'/Object'\u001b[0m\u001b[1;33m]\u001b[0m\u001b[1;33m[\u001b[0m\u001b[1;36m0\u001b[0m\u001b[1;33m]\u001b[0m\u001b[1;33m\u001b[0m\u001b[0m\n",
      "\u001b[1;31mNameError\u001b[0m: name 'h5py' is not defined"
     ]
    }
   ],
   "source": [
    "with h5py.File(hdfpath,'r') as f:\n",
    "    # ファイルオブジェクトをイテレートするとファイル直下のオブジェクト名を返す\n",
    "    #for k in f:\n",
    "    print(\"多次元配列表示\")#次元数注意\n",
    "    data=f['/Object'][0]\n",
    "print(data)        "
   ]
  },
  {
   "cell_type": "code",
   "execution_count": 37,
   "metadata": {},
   "outputs": [
    {
     "name": "stdout",
     "output_type": "stream",
     "text": [
      "<class 'numpy.ndarray'>\n",
      "(1001, 355, 266)\n",
      "314\n"
     ]
    }
   ],
   "source": [
    "# dataの確認\n",
    "\n",
    "print(type(data))      #>>numpy.ndarry\n",
    "print(data.shape)      #>>(1001,355,266) t=1001\n",
    "print(data[0][0][0])   #pixを一個ずつ見る"
   ]
  },
  {
   "cell_type": "code",
   "execution_count": 84,
   "metadata": {},
   "outputs": [
    {
     "name": "stdout",
     "output_type": "stream",
     "text": [
      "uint8\n",
      "j<イテレータが正しく機能したか 1001\n"
     ]
    }
   ],
   "source": [
    "#タテ×ヨコ×数値の配列を画像へ変換\n",
    "#https://note.nkmk.me/python-numpy-image-processing/\n",
    "\n",
    "\n",
    "print(data.dtype)\n",
    "data = data.astype(np.uint8)\n",
    "\n",
    "j=0\n",
    "\n",
    "for i in data:   #1001回(time-frame)のイテラブル可能\n",
    "    #i <-2次元×数値      \n",
    "    pil_img = Image.fromarray(i)\n",
    "    #print(\"type(i)\",type(i))      #>>numpy.ndarry\n",
    "    w_path =　 #可逆なpngを使うこと!!\n",
    "    #print(w_path)\n",
    "    pil_img.save(w_path)\n",
    "    j+=1\n",
    "    \n",
    "\n",
    "#print(\"type(list)\",type(last))\n",
    "\n",
    "#pil_img = Image.fromarray(data)\n",
    "#pil_img.save('/ca_image.png')\n",
    "print(\"j<イテレータが正しく機能したか\",j)"
   ]
  },
  {
   "cell_type": "code",
   "execution_count": 87,
   "metadata": {},
   "outputs": [],
   "source": [
    "#https://qiita.com/itoru257/items/228a91404fa77c780fd4\n",
    "#連番画像を動画にする\n",
    "\n",
    "fourcc = cv2.VideoWriter_fourcc('m','p','4','v')\n",
    "video = cv2.VideoWriter('video.mp4', fourcc, 1, (266, 355))\n",
    "\n",
    "for k in range(1, 1001):\n",
    "    v_path = \n",
    "    img = cv2.imread(v_path.format(k))\n",
    "    img = cv2.resize(img, (266,355))\n",
    "    video.write(img)\n",
    "\n",
    "video.release()"
   ]
  },
  {
   "cell_type": "code",
   "execution_count": null,
   "metadata": {},
   "outputs": [],
   "source": [
    "メモメモ\n",
    "video.mp4の中にmp4にした映像ファイルがある。\n",
    "ギザギザの輪郭がなぜ出てくるのかは謎\n"
   ]
  }
 ],
 "metadata": {
  "kernelspec": {
   "display_name": "Python 3",
   "language": "python",
   "name": "python3"
  },
  "language_info": {
   "codemirror_mode": {
    "name": "ipython",
    "version": 3
   },
   "file_extension": ".py",
   "mimetype": "text/x-python",
   "name": "python",
   "nbconvert_exporter": "python",
   "pygments_lexer": "ipython3",
   "version": "3.5.6"
  }
 },
 "nbformat": 4,
 "nbformat_minor": 2
}
