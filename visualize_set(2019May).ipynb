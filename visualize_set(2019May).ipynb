{
 "cells": [
  {
   "cell_type": "markdown",
   "metadata": {},
   "source": [
    "画像に足しして色がついたり、消えたりする(？？)のが不気味すぎるので理由確認!!\n",
    "全体的順序>　\n",
    "1　hdf5から多次元配列を取り出す。\n",
    "2　0秒目の画像を確認する。\n",
    "3  一つの画像に対して平坦化処理をかける\n",
    "4  連番画像を作る.\n",
    "5  連番画像に平坦化処理をかける\n",
    "6  平坦化した連番画像をmp4に変換する.\n",
    "7  輝度を高さとした3Dplotの連番画像を作成する\n",
    "8  3Dplotを連番"
   ]
  },
  {
   "cell_type": "code",
   "execution_count": 18,
   "metadata": {},
   "outputs": [],
   "source": [
    "import cv2\n",
    "import h5py\n",
    "import matplotlib.pyplot as plt\n",
    "import numpy as np\n",
    "from PIL import Image\n",
    "import matplotlib.pyplot as plt\n",
    "from IPython.display import Image, display_png\n",
    "from PIL import Image, ImageOps\n",
    "\n",
    "%matplotlib inline"
   ]
  },
  {
   "cell_type": "markdown",
   "metadata": {},
   "source": [
    "h5ファイルの読み込み"
   ]
  },
  {
   "cell_type": "code",
   "execution_count": 4,
   "metadata": {},
   "outputs": [],
   "source": [
    "h = r\"Obj_1 - recording_20180410_093103-trim-preproc-mc.h5\""
   ]
  },
  {
   "cell_type": "code",
   "execution_count": 5,
   "metadata": {},
   "outputs": [],
   "source": [
    "with h5py.File(h,'r') as f:\n",
    "    # ファイルオブジェクトをイテレートするとファイル直下のオブジェクト名を返す\n",
    "    for k in f:\n",
    "        data = f['Object'][0]       "
   ]
  },
  {
   "cell_type": "markdown",
   "metadata": {},
   "source": [
    "\n",
    "dataの次元確認"
   ]
  },
  {
   "cell_type": "code",
   "execution_count": 6,
   "metadata": {},
   "outputs": [
    {
     "name": "stdout",
     "output_type": "stream",
     "text": [
      "(1001, 355, 266)\n",
      "<class 'numpy.uint16'>\n"
     ]
    }
   ],
   "source": [
    "print(data.shape)\n",
    "print(type(data[0][0][0]))"
   ]
  },
  {
   "cell_type": "code",
   "execution_count": 7,
   "metadata": {},
   "outputs": [
    {
     "data": {
      "text/plain": [
       "(355, 266)"
      ]
     },
     "execution_count": 7,
     "metadata": {},
     "output_type": "execute_result"
    }
   ],
   "source": [
    "data[0].shape"
   ]
  },
  {
   "cell_type": "markdown",
   "metadata": {},
   "source": [
    "jupyter上で表示:色がつく。黄色の強い所が輝度の高い部位"
   ]
  },
  {
   "cell_type": "code",
   "execution_count": 29,
   "metadata": {},
   "outputs": [],
   "source": [
    "#plt.imshow(data[0])"
   ]
  },
  {
   "cell_type": "markdown",
   "metadata": {},
   "source": [
    "pngとして0番目を保存。(デフォルトで上書きなので注意)"
   ]
  },
  {
   "cell_type": "code",
   "execution_count": 9,
   "metadata": {},
   "outputs": [],
   "source": [
    "#型変換\n",
    "data2= np.array(data,dtype=np.uint16)"
   ]
  },
  {
   "cell_type": "code",
   "execution_count": 30,
   "metadata": {},
   "outputs": [],
   "source": [
    "#plt.imshow(data2[0])"
   ]
  },
  {
   "cell_type": "code",
   "execution_count": 28,
   "metadata": {},
   "outputs": [
    {
     "data": {
      "text/plain": [
       "(355, 266)"
      ]
     },
     "execution_count": 28,
     "metadata": {},
     "output_type": "execute_result"
    }
   ],
   "source": [
    "#保存テスト\n",
    "plt.imsave('test_test.png',data2[0]) \n",
    "data2[0].shape"
   ]
  },
  {
   "cell_type": "markdown",
   "metadata": {},
   "source": [
    "平坦化"
   ]
  },
  {
   "cell_type": "code",
   "execution_count": 32,
   "metadata": {},
   "outputs": [],
   "source": [
    "img = cv2.imread('test_test.png',0)\n",
    "img_equ = cv2.equalizeHist(img)\n",
    "#plt.imshow(img_equ)\n",
    "#plt.imsave(\"pilsave.png\",img_equ)"
   ]
  },
  {
   "cell_type": "markdown",
   "metadata": {},
   "source": [
    "ここまでで確認的な可視化。\n",
    "以降は　平坦化　+　video化"
   ]
  },
  {
   "cell_type": "markdown",
   "metadata": {},
   "source": [
    "ファイル名は上書きするので注意!!\n",
    "👇は平坦化はしていない。"
   ]
  },
  {
   "cell_type": "code",
   "execution_count": 29,
   "metadata": {
    "scrolled": true
   },
   "outputs": [
    {
     "name": "stdout",
     "output_type": "stream",
     "text": [
      "finsh!\n"
     ]
    }
   ],
   "source": [
    "#タテ×ヨコ×数値の配列を画像へ変換#https://note.nkmk.me/python-numpy-image-processing/# print(data.dtype)# data = data.astype(np.uint8)\n",
    "\n",
    "for i in range(data2.shape[0]):#1001回(time-frame)のイテラブル可能\n",
    "    #i <-2次元×数値      \n",
    "    w_path = r\"E:\\test_dir\\test_test\" + str(i) + \".png\"\n",
    "    plt.imsave(w_path,data2[i])\n",
    "print(\"finsh!\")"
   ]
  },
  {
   "cell_type": "markdown",
   "metadata": {},
   "source": [
    "平坦化したpngファイルを大量に作成する。"
   ]
  },
  {
   "cell_type": "code",
   "execution_count": 30,
   "metadata": {},
   "outputs": [
    {
     "name": "stdout",
     "output_type": "stream",
     "text": [
      "eqalized!\n"
     ]
    }
   ],
   "source": [
    "for j in range(data2.shape[0]):\n",
    "    r_path = r\"E:\\test_dir\\test_test\" + str(j) + \".png\"\n",
    "    n_path = r\"E:\\test_dir\\test_hist\" + str(j) + \".png\"\n",
    "    \n",
    "    img = cv2.imread(r_path,0)\n",
    "    img_equ = cv2.equalizeHist(img)\n",
    "    plt.imsave(n_path,img_equ)\n",
    "\n",
    "print(\"eqalized!\")"
   ]
  },
  {
   "cell_type": "markdown",
   "metadata": {},
   "source": [
    "pngを結合して画像ファイルに変換する。"
   ]
  },
  {
   "cell_type": "code",
   "execution_count": 11,
   "metadata": {},
   "outputs": [],
   "source": [
    "horizontal =  266\n",
    "vertical   =  355\n",
    "video_name = r\"test_test\""
   ]
  },
  {
   "cell_type": "code",
   "execution_count": 31,
   "metadata": {},
   "outputs": [],
   "source": [
    "fourcc = cv2.VideoWriter_fourcc('m','p','4','v')\n",
    "video = cv2.VideoWriter('video.mp4', fourcc, 20, (horizontal,vertical))\n",
    "\n",
    "for k in range(0, 1000):\n",
    "    v_path = r\"E:\\test_dir\\test_hist\" +str(k) + r\".png\" \n",
    "    img = cv2.imread(v_path)\n",
    "    img = cv2.resize(img,(horizontal,vertical))\n",
    "    video.write(img)\n",
    "\n",
    "video.release()\n",
    "\n",
    "print(\"video made!\")"
   ]
  },
  {
   "cell_type": "markdown",
   "metadata": {},
   "source": [
    "ここまではh5から動画を作成する話。\n",
    "以降は動画の概観を得るために可視化する話。"
   ]
  },
  {
   "cell_type": "code",
   "execution_count": 19,
   "metadata": {},
   "outputs": [],
   "source": [
    "from mpl_toolkits.mplot3d import Axes3D\n",
    "from matplotlib import cm"
   ]
  },
  {
   "cell_type": "code",
   "execution_count": null,
   "metadata": {},
   "outputs": [
    {
     "ename": "KeyboardInterrupt",
     "evalue": "",
     "output_type": "error",
     "traceback": [
      "\u001b[1;31m---------------------------------------------------------------------------\u001b[0m",
      "\u001b[1;31mKeyboardInterrupt\u001b[0m                         Traceback (most recent call last)",
      "\u001b[1;32m<ipython-input-33-a33af6232f95>\u001b[0m in \u001b[0;36m<module>\u001b[1;34m()\u001b[0m\n\u001b[0;32m     25\u001b[0m \u001b[0mdx\u001b[0m \u001b[1;33m=\u001b[0m \u001b[0mfig\u001b[0m\u001b[1;33m.\u001b[0m\u001b[0madd_subplot\u001b[0m\u001b[1;33m(\u001b[0m\u001b[1;36m2\u001b[0m\u001b[1;33m,\u001b[0m \u001b[1;36m2\u001b[0m\u001b[1;33m,\u001b[0m \u001b[1;36m4\u001b[0m\u001b[1;33m,\u001b[0m \u001b[0mprojection\u001b[0m \u001b[1;33m=\u001b[0m \u001b[1;34m'3d'\u001b[0m\u001b[1;33m,\u001b[0m \u001b[0mazim\u001b[0m \u001b[1;33m=\u001b[0m \u001b[1;33m-\u001b[0m\u001b[1;36m45\u001b[0m\u001b[1;33m)\u001b[0m\u001b[1;33m\u001b[0m\u001b[0m\n\u001b[0;32m     26\u001b[0m \u001b[0mdx\u001b[0m\u001b[1;33m.\u001b[0m\u001b[0mset_zlim\u001b[0m\u001b[1;33m(\u001b[0m\u001b[1;36m300\u001b[0m\u001b[1;33m,\u001b[0m\u001b[1;36m600\u001b[0m\u001b[1;33m)\u001b[0m\u001b[1;33m\u001b[0m\u001b[0m\n\u001b[1;32m---> 27\u001b[1;33m \u001b[0mdx\u001b[0m\u001b[1;33m.\u001b[0m\u001b[0mplot_surface\u001b[0m\u001b[1;33m(\u001b[0m\u001b[0mX\u001b[0m\u001b[1;33m,\u001b[0m \u001b[0mY\u001b[0m\u001b[1;33m,\u001b[0m \u001b[0mZ\u001b[0m\u001b[1;33m,\u001b[0m \u001b[0mrstride\u001b[0m\u001b[1;33m=\u001b[0m\u001b[1;36m1\u001b[0m\u001b[1;33m,\u001b[0m \u001b[0mcstride\u001b[0m\u001b[1;33m=\u001b[0m\u001b[1;36m1\u001b[0m\u001b[1;33m,\u001b[0m\u001b[0mcmap\u001b[0m\u001b[1;33m=\u001b[0m\u001b[0mcm\u001b[0m\u001b[1;33m.\u001b[0m\u001b[0mjet\u001b[0m\u001b[1;33m)\u001b[0m\u001b[1;33m\u001b[0m\u001b[0m\n\u001b[0m\u001b[0;32m     28\u001b[0m \u001b[1;33m\u001b[0m\u001b[0m\n\u001b[0;32m     29\u001b[0m \u001b[1;33m\u001b[0m\u001b[0m\n",
      "\u001b[1;32m~\\Anaconda3\\lib\\site-packages\\mpl_toolkits\\mplot3d\\axes3d.py\u001b[0m in \u001b[0;36mplot_surface\u001b[1;34m(self, X, Y, Z, *args, **kwargs)\u001b[0m\n\u001b[0;32m   1707\u001b[0m                     \u001b[0mzbase\u001b[0m \u001b[1;33m=\u001b[0m \u001b[0ma\u001b[0m\u001b[1;33m[\u001b[0m\u001b[0mmin\u001b[0m\u001b[1;33m(\u001b[0m\u001b[0mrows\u001b[0m\u001b[1;33m-\u001b[0m\u001b[1;36m1\u001b[0m\u001b[1;33m,\u001b[0m \u001b[0mrs\u001b[0m\u001b[1;33m+\u001b[0m\u001b[0mrstride\u001b[0m\u001b[1;33m)\u001b[0m\u001b[1;33m,\u001b[0m \u001b[0mcs\u001b[0m\u001b[1;33m:\u001b[0m\u001b[0mmin\u001b[0m\u001b[1;33m(\u001b[0m\u001b[0mcols\u001b[0m\u001b[1;33m,\u001b[0m \u001b[0mcs\u001b[0m\u001b[1;33m+\u001b[0m\u001b[0mcstride\u001b[0m\u001b[1;33m+\u001b[0m\u001b[1;36m1\u001b[0m\u001b[1;33m)\u001b[0m\u001b[1;33m:\u001b[0m\u001b[1;33m]\u001b[0m\u001b[1;33m[\u001b[0m\u001b[1;33m:\u001b[0m\u001b[1;33m:\u001b[0m\u001b[1;33m-\u001b[0m\u001b[1;36m1\u001b[0m\u001b[1;33m]\u001b[0m\u001b[1;33m\u001b[0m\u001b[0m\n\u001b[0;32m   1708\u001b[0m                     \u001b[0mzright\u001b[0m \u001b[1;33m=\u001b[0m \u001b[0ma\u001b[0m\u001b[1;33m[\u001b[0m\u001b[0mrs\u001b[0m\u001b[1;33m:\u001b[0m\u001b[0mmin\u001b[0m\u001b[1;33m(\u001b[0m\u001b[0mrows\u001b[0m\u001b[1;33m-\u001b[0m\u001b[1;36m1\u001b[0m\u001b[1;33m,\u001b[0m \u001b[0mrs\u001b[0m\u001b[1;33m+\u001b[0m\u001b[0mrstride\u001b[0m\u001b[1;33m)\u001b[0m\u001b[1;33m:\u001b[0m\u001b[1;33m,\u001b[0m \u001b[0mcs\u001b[0m\u001b[1;33m]\u001b[0m\u001b[1;33m[\u001b[0m\u001b[1;33m:\u001b[0m\u001b[1;33m:\u001b[0m\u001b[1;33m-\u001b[0m\u001b[1;36m1\u001b[0m\u001b[1;33m]\u001b[0m\u001b[1;33m\u001b[0m\u001b[0m\n\u001b[1;32m-> 1709\u001b[1;33m                     \u001b[0mz\u001b[0m \u001b[1;33m=\u001b[0m \u001b[0mnp\u001b[0m\u001b[1;33m.\u001b[0m\u001b[0mconcatenate\u001b[0m\u001b[1;33m(\u001b[0m\u001b[1;33m(\u001b[0m\u001b[0mztop\u001b[0m\u001b[1;33m,\u001b[0m \u001b[0mzleft\u001b[0m\u001b[1;33m,\u001b[0m \u001b[0mzbase\u001b[0m\u001b[1;33m,\u001b[0m \u001b[0mzright\u001b[0m\u001b[1;33m)\u001b[0m\u001b[1;33m)\u001b[0m\u001b[1;33m\u001b[0m\u001b[0m\n\u001b[0m\u001b[0;32m   1710\u001b[0m                     \u001b[0mps\u001b[0m\u001b[1;33m.\u001b[0m\u001b[0mappend\u001b[0m\u001b[1;33m(\u001b[0m\u001b[0mz\u001b[0m\u001b[1;33m)\u001b[0m\u001b[1;33m\u001b[0m\u001b[0m\n\u001b[0;32m   1711\u001b[0m \u001b[1;33m\u001b[0m\u001b[0m\n",
      "\u001b[1;31mKeyboardInterrupt\u001b[0m: "
     ]
    }
   ],
   "source": [
    "#http://jinpei0908.hatenablog.com/entry/2016/08/22/190951\n",
    "#真似してるわけではない。👆参照程度\n",
    "\n",
    "x = np.arange(0, 354, 1)\n",
    "y = np.arange(0, 265, 1)\n",
    "X, Y = np.meshgrid(x, y)\n",
    "Z = data2[0][X,Y] \n",
    "\n",
    "\n",
    "fig = plt.figure(figsize = (15, 15))\n",
    "\n",
    "\n",
    "ax = fig.add_subplot(2, 2, 1, projection = '3d', azim = 45)\n",
    "ax.set_zlim(300,600)\n",
    "ax.plot_surface(X, Y, Z, rstride=1, cstride=1,cmap=cm.jet)\n",
    "\n",
    "bx = fig.add_subplot(2, 2, 2, projection = '3d', azim = 135)\n",
    "bx.set_zlim(300,600)\n",
    "bx.plot_surface(X, Y, Z, rstride=1, cstride=1,cmap=cm.jet)\n",
    "\n",
    "cx = fig.add_subplot(2, 2, 3, projection = '3d', azim = -135)\n",
    "cx.set_zlim(300,600)\n",
    "cx.plot_surface(X, Y, Z, rstride=1, cstride=1,cmap=cm.jet)\n",
    "\n",
    "dx = fig.add_subplot(2, 2, 4, projection = '3d', azim = -45)\n",
    "dx.set_zlim(300,600)\n",
    "dx.plot_surface(X, Y, Z, rstride=1, cstride=1,cmap=cm.jet)\n",
    "\n",
    "\n",
    "#plt.show()"
   ]
  },
  {
   "cell_type": "markdown",
   "metadata": {},
   "source": [
    "#かなり時間がかかるので注意!!"
   ]
  },
  {
   "cell_type": "code",
   "execution_count": null,
   "metadata": {},
   "outputs": [],
   "source": [
    "for i in range(0,1000): \n",
    "    d = data2[i,:,:] \n",
    "    x = np.arange(0, 354, 1)\n",
    "    y = np.arange(0, 265, 1)\n",
    "    X, Y = np.meshgrid(x, y)\n",
    "    Z = d[X,Y]\n",
    "    \n",
    "    fig=plt.figure(figsize=(10,10))\n",
    "    ax=fig.add_subplot(111, projection='3d')\n",
    "    ax.plot_surface(X, Y, Z, rstride=1, cstride=1,cmap=cm.jet)\n",
    "\n",
    "    plt.savefig(\"../datasets/figure\" + str(i) + \".png\")\n",
    "    plt.close()\n"
   ]
  },
  {
   "cell_type": "code",
   "execution_count": null,
   "metadata": {},
   "outputs": [],
   "source": [
    "x1 = np.arange(0, 354, 1)\n",
    "y1 = np.arange(0, 265, 1)\n",
    "X1, Y1 = np.meshgrid(x1, y1)\n",
    "\n",
    "for t in range(0,1000):\n",
    "    Z1 = data[t,X1,Y1] \n",
    "    fig=plt.figure(figsize=(10,10))\n",
    "    ax=fig.add_subplot(111, projection='3d',azim=+135)\n",
    "    ax.set_zlim(300,600)\n",
    "    ax.plot_surface(X1, Y1, Z1, rstride=1, cstride=1,cmap=cm.jet)\n",
    "    plt.savefig(\"3d_viewpoint_\" + str(t) + \".png\")"
   ]
  }
 ],
 "metadata": {
  "kernelspec": {
   "display_name": "Python 3",
   "language": "python",
   "name": "python3"
  },
  "language_info": {
   "codemirror_mode": {
    "name": "ipython",
    "version": 3
   },
   "file_extension": ".py",
   "mimetype": "text/x-python",
   "name": "python",
   "nbconvert_exporter": "python",
   "pygments_lexer": "ipython3",
   "version": "3.6.5"
  }
 },
 "nbformat": 4,
 "nbformat_minor": 2
}
