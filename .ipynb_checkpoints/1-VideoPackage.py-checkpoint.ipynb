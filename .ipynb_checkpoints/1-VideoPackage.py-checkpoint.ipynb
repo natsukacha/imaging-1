{
 "cells": [
  {
   "cell_type": "code",
   "execution_count": 66,
   "metadata": {},
   "outputs": [
    {
     "data": {
      "text/plain": [
       "'3.1.0'"
      ]
     },
     "execution_count": 66,
     "metadata": {},
     "output_type": "execute_result"
    }
   ],
   "source": [
    "import cv2\n",
    "import numpy as np\n",
    "import h5py\n",
    "from PIL import Image\n",
    "cv2.__version__"
   ]
  },
  {
   "cell_type": "code",
   "execution_count": null,
   "metadata": {},
   "outputs": [],
   "source": []
  },
  {
   "cell_type": "code",
   "execution_count": 12,
   "metadata": {},
   "outputs": [
    {
     "name": "stdout",
     "output_type": "stream",
     "text": [
      "Object\n"
     ]
    }
   ],
   "source": [
    "#ファイル読み込み\n",
    "hdfpath=\n",
    "with h5py.File(hdfpath,'r') as f:\n",
    "    # ファイルオブジェクトをイテレートするとファイル直下のオブジェクト名を返す\n",
    "    for k in f:\n",
    "        print(k)"
   ]
  },
  {
   "cell_type": "code",
   "execution_count": 35,
   "metadata": {},
   "outputs": [
    {
     "name": "stdout",
     "output_type": "stream",
     "text": [
      "4次元配列表示\n",
      "[[[314 316 317 ... 303 303 299]\n",
      "  [316 316 317 ... 305 303 302]\n",
      "  [319 317 321 ... 307 304 303]\n",
      "  ...\n",
      "  [392 394 397 ... 387 385 381]\n",
      "  [391 392 394 ... 387 385 381]\n",
      "  [391 391 392 ... 387 384 381]]\n",
      "\n",
      " [[315 317 318 ... 302 301 299]\n",
      "  [316 319 319 ... 303 302 301]\n",
      "  [318 319 319 ... 305 303 303]\n",
      "  ...\n",
      "  [393 396 398 ... 387 386 379]\n",
      "  [392 392 396 ... 386 384 379]\n",
      "  [389 391 392 ... 385 384 378]]\n",
      "\n",
      " [[315 315 316 ... 301 300 301]\n",
      "  [315 316 317 ... 304 302 302]\n",
      "  [316 316 318 ... 305 304 303]\n",
      "  ...\n",
      "  [395 395 395 ... 384 383 379]\n",
      "  [391 394 394 ... 384 383 379]\n",
      "  [390 390 391 ... 383 380 379]]\n",
      "\n",
      " ...\n",
      "\n",
      " [[312 312 313 ... 298 298 297]\n",
      "  [313 313 313 ... 300 300 298]\n",
      "  [314 314 315 ... 303 301 300]\n",
      "  ...\n",
      "  [387 388 389 ... 379 374 373]\n",
      "  [387 387 388 ... 378 374 371]\n",
      "  [385 385 386 ... 374 372 370]]\n",
      "\n",
      " [[311 312 313 ... 298 298 299]\n",
      "  [312 312 313 ... 300 300 299]\n",
      "  [312 314 316 ... 303 300 300]\n",
      "  ...\n",
      "  [385 387 389 ... 378 374 374]\n",
      "  [385 386 388 ... 376 374 372]\n",
      "  [383 384 386 ... 375 371 370]]\n",
      "\n",
      " [[311 314 314 ... 298 297 297]\n",
      "  [314 314 314 ... 301 299 298]\n",
      "  [314 314 314 ... 304 301 298]\n",
      "  ...\n",
      "  [386 388 388 ... 377 375 374]\n",
      "  [385 387 388 ... 377 375 371]\n",
      "  [384 385 386 ... 375 371 370]]]\n"
     ]
    }
   ],
   "source": [
    "with h5py.File(hdfpath,'r') as f:\n",
    "    # ファイルオブジェクトをイテレートするとファイル直下のオブジェクト名を返す\n",
    "    #for k in f:\n",
    "    print(\"多次元配列表示\")#次元数注意\n",
    "    data=f['/Object'][0]\n",
    "print(data)        "
   ]
  },
  {
   "cell_type": "code",
   "execution_count": 37,
   "metadata": {},
   "outputs": [
    {
     "name": "stdout",
     "output_type": "stream",
     "text": [
      "<class 'numpy.ndarray'>\n",
      "(1001, 355, 266)\n",
      "314\n"
     ]
    }
   ],
   "source": [
    "# dataの確認\n",
    "\n",
    "print(type(data))      #>>numpy.ndarry\n",
    "print(data.shape)      #>>(1001,355,266) t=1001\n",
    "print(data[0][0][0])   #pixを一個ずつ見る"
   ]
  },
  {
   "cell_type": "code",
   "execution_count": 84,
   "metadata": {},
   "outputs": [
    {
     "name": "stdout",
     "output_type": "stream",
     "text": [
      "uint8\n",
      "j<イテレータが正しく機能したか 1001\n"
     ]
    }
   ],
   "source": [
    "#タテ×ヨコ×数値の配列を画像へ変換\n",
    "#https://note.nkmk.me/python-numpy-image-processing/\n",
    "\n",
    "\n",
    "print(data.dtype)\n",
    "data = data.astype(np.uint8)\n",
    "\n",
    "j=0\n",
    "\n",
    "for i in data:   #1001回(time-frame)のイテラブル可能\n",
    "    #i <-2次元×数値      \n",
    "    pil_img = Image.fromarray(i)\n",
    "    #print(\"type(i)\",type(i))      #>>numpy.ndarry\n",
    "    w_path =　 #可逆なpngを使うこと!!\n",
    "    #print(w_path)\n",
    "    pil_img.save(w_path)\n",
    "    j+=1\n",
    "    \n",
    "\n",
    "#print(\"type(list)\",type(last))\n",
    "\n",
    "#pil_img = Image.fromarray(data)\n",
    "#pil_img.save('/ca_image.png')\n",
    "print(\"j<イテレータが正しく機能したか\",j)"
   ]
  },
  {
   "cell_type": "code",
   "execution_count": 87,
   "metadata": {},
   "outputs": [],
   "source": [
    "#https://qiita.com/itoru257/items/228a91404fa77c780fd4\n",
    "#連番画像を動画にする\n",
    "\n",
    "fourcc = cv2.VideoWriter_fourcc('m','p','4','v')\n",
    "video = cv2.VideoWriter('video.mp4', fourcc, 1, (266, 355))\n",
    "\n",
    "for k in range(1, 1001):\n",
    "    v_path = \n",
    "    img = cv2.imread(v_path.format(k))\n",
    "    img = cv2.resize(img, (266,355))\n",
    "    video.write(img)\n",
    "\n",
    "video.release()"
   ]
  },
  {
   "cell_type": "code",
   "execution_count": null,
   "metadata": {},
   "outputs": [],
   "source": [
    "メモメモ\n",
    "video.mp4の中にmp4にした映像ファイルがある。\n",
    "ギザギザの輪郭がなぜ出てくるのかは謎\n"
   ]
  }
 ],
 "metadata": {
  "kernelspec": {
   "display_name": "Python 3",
   "language": "python",
   "name": "python3"
  },
  "language_info": {
   "codemirror_mode": {
    "name": "ipython",
    "version": 3
   },
   "file_extension": ".py",
   "mimetype": "text/x-python",
   "name": "python",
   "nbconvert_exporter": "python",
   "pygments_lexer": "ipython3",
   "version": "3.5.6"
  }
 },
 "nbformat": 4,
 "nbformat_minor": 2
}
