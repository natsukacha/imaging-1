{
 "cells": [
  {
   "cell_type": "code",
   "execution_count": 3,
   "metadata": {},
   "outputs": [],
   "source": [
    "import numpy as np\n",
    "import h5py"
   ]
  },
  {
   "cell_type": "code",
   "execution_count": 3,
   "metadata": {},
   "outputs": [
    {
     "name": "stdout",
     "output_type": "stream",
     "text": [
      "(1001, 355, 266)\n"
     ]
    }
   ],
   "source": [
    "#(1001,355,266) t=1001\n",
    "\n",
    "\n",
    "with h5py.File(hdfpath,'r') as f:\n",
    "    # ファイルオブジェクトをイテレートするとファイル直下のオブジェクト名を返す\n",
    "    data=f['/Object'][0]\n",
    "print(data.shape)    #>>3次元"
   ]
  },
  {
   "cell_type": "code",
   "execution_count": 4,
   "metadata": {
    "scrolled": true
   },
   "outputs": [],
   "source": [
    "j=0\n",
    "last=[]\n",
    "for i in data[0]:\n",
    "    #print(i,\"\\n\\n\")\n",
    "    last.append(i)\n",
    "    \n"
   ]
  },
  {
   "cell_type": "code",
   "execution_count": 10,
   "metadata": {
    "scrolled": false
   },
   "outputs": [
    {
     "name": "stdout",
     "output_type": "stream",
     "text": [
      "[[317 317 318 ... 303 303 302]\n",
      " [318 319 320 ... 306 302 302]\n",
      " [321 321 322 ... 308 305 303]\n",
      " ...\n",
      " [391 392 394 ... 379 377 373]\n",
      " [390 391 391 ... 379 376 374]\n",
      " [389 390 390 ... 378 372 372]]\n",
      "1001\n",
      "(355, 266)\n"
     ]
    }
   ],
   "source": [
    "k=0\n",
    "#以下の形でtime-stepごとに266*355を取り出せる　>>イメージ輪切り\n",
    "for i in data:\n",
    "    if k == 1000:\n",
    "        print(data[i][0][0])\n",
    "        a = data[i][0][0]\n",
    "    k+=1\n",
    "print(k)    \n",
    "print(a.shape)"
   ]
  },
  {
   "cell_type": "code",
   "execution_count": 11,
   "metadata": {},
   "outputs": [
    {
     "name": "stdout",
     "output_type": "stream",
     "text": [
      "[314 315 315 ... 312 311 311]\n",
      "(1001,)\n",
      "354*265 [381 378 379 ... 370 370 370]\n"
     ]
    }
   ],
   "source": [
    "#o=data[:0,0]で0*0のpixのtime-sereiesを取り出す\n",
    "o=data[:,0,0]\n",
    "print(o)\n",
    "print(o.shape)\n",
    "o=data[:,354,265]\n",
    "print(\"354*265\",o)#last pix\n"
   ]
  },
  {
   "cell_type": "code",
   "execution_count": null,
   "metadata": {},
   "outputs": [],
   "source": [
    "To get colliration of A , B\n",
    "\n",
    "A \n"
   ]
  },
  {
   "cell_type": "code",
   "execution_count": 4,
   "metadata": {},
   "outputs": [
    {
     "name": "stdout",
     "output_type": "stream",
     "text": [
      "(1001, 355, 266)\n"
     ]
    }
   ],
   "source": [
    "hdfpath=\n",
    "with h5py.File(hdfpath,'r') as f:\n",
    "    # ファイルオブジェクトをイテレートするとファイル直下のオブジェクト名を返す\n",
    "    data=f['/Object'][0]\n",
    "print(data.shape)    "
   ]
  },
  {
   "cell_type": "code",
   "execution_count": 15,
   "metadata": {},
   "outputs": [
    {
     "name": "stdout",
     "output_type": "stream",
     "text": [
      "[1 2 3]\n",
      "[1 2 3]\n",
      "[4 5 6]\n",
      "[4 5 6]\n"
     ]
    }
   ],
   "source": [
    "import itertools\n",
    "for x, y in itertools.product(range(10), range(10)):\n",
    "    print(x,y)\n",
    "test = np.array([[1,2,3],[4,5,6],[7,8,9]])\n"
   ]
  },
  {
   "cell_type": "code",
   "execution_count": 93,
   "metadata": {},
   "outputs": [
    {
     "name": "stdout",
     "output_type": "stream",
     "text": [
      "[[[  1   2]\n",
      "  [  3   4]]\n",
      "\n",
      " [[ 11  12]\n",
      "  [ 13  14]]\n",
      "\n",
      " [[ 21  22]\n",
      "  [ 23 100]]]\n",
      "\n",
      "\n",
      "splited [array([[[ 1,  2]],\n",
      "\n",
      "       [[11, 12]],\n",
      "\n",
      "       [[21, 22]]]), array([[[  3,   4]],\n",
      "\n",
      "       [[ 13,  14]],\n",
      "\n",
      "       [[ 23, 100]]])]\n"
     ]
    }
   ],
   "source": [
    "test_array = np.array([[[1,2],[3,4]],[[11,12],[13,14]],[[21,22],[23,100]]])\n",
    "print(test_array)\n",
    "splited = np.split(test_array,2,axis=1)\n",
    "print(\"\\n\")\n",
    "print(\"splited\",splited)"
   ]
  },
  {
   "cell_type": "code",
   "execution_count": 77,
   "metadata": {},
   "outputs": [
    {
     "name": "stdout",
     "output_type": "stream",
     "text": [
      "[[[  1   2]\n",
      "  [  3   4]]\n",
      "\n",
      " [[ 11  12]\n",
      "  [ 13  14]]\n",
      "\n",
      " [[ 21  22]\n",
      "  [ 23 100]]]\n",
      "0 0\n",
      "0 1\n",
      "1 0\n",
      "1 1\n"
     ]
    },
    {
     "ename": "AttributeError",
     "evalue": "'list' object has no attribute 'split'",
     "output_type": "error",
     "traceback": [
      "\u001b[1;31m---------------------------------------------------------------------------\u001b[0m",
      "\u001b[1;31mAttributeError\u001b[0m                            Traceback (most recent call last)",
      "\u001b[1;32m<ipython-input-77-844b3dc66b77>\u001b[0m in \u001b[0;36m<module>\u001b[1;34m()\u001b[0m\n\u001b[0;32m      6\u001b[0m     \u001b[0mprint\u001b[0m\u001b[1;33m(\u001b[0m\u001b[0mi\u001b[0m\u001b[1;33m,\u001b[0m\u001b[0mj\u001b[0m\u001b[1;33m)\u001b[0m\u001b[1;33m\u001b[0m\u001b[0m\n\u001b[0;32m      7\u001b[0m     \u001b[0mtest_list\u001b[0m\u001b[1;33m.\u001b[0m\u001b[0mappend\u001b[0m\u001b[1;33m(\u001b[0m\u001b[0mtest\u001b[0m\u001b[1;33m[\u001b[0m\u001b[1;33m:\u001b[0m\u001b[1;33m,\u001b[0m\u001b[0mi\u001b[0m\u001b[1;33m,\u001b[0m\u001b[0mj\u001b[0m\u001b[1;33m]\u001b[0m\u001b[1;33m)\u001b[0m\u001b[1;33m\u001b[0m\u001b[0m\n\u001b[1;32m----> 8\u001b[1;33m \u001b[0mprint\u001b[0m\u001b[1;33m(\u001b[0m\u001b[0mtest_list\u001b[0m\u001b[1;33m.\u001b[0m\u001b[0msplit\u001b[0m\u001b[1;33m(\u001b[0m\u001b[1;36m2\u001b[0m\u001b[1;33m)\u001b[0m\u001b[1;33m)\u001b[0m\u001b[1;33m\u001b[0m\u001b[0m\n\u001b[0m",
      "\u001b[1;31mAttributeError\u001b[0m: 'list' object has no attribute 'split'"
     ]
    }
   ],
   "source": [
    "test = np.array([[[1,2],[3,4]],[[11,12],[13,14]],[[21,22],[23,100]]])\n",
    "print(test)\n",
    "\n",
    "test_list=[]\n",
    "for i, j in itertools.product(range(2), range(2)):\n",
    "    print(i,j)\n",
    "    test_list.append(test[:,i,j])\n",
    "print(test_list)    "
   ]
  },
  {
   "cell_type": "code",
   "execution_count": 60,
   "metadata": {},
   "outputs": [
    {
     "name": "stdout",
     "output_type": "stream",
     "text": [
      "[[1.         0.90949989]\n",
      " [0.90949989 1.        ]]\n"
     ]
    }
   ],
   "source": [
    "a = list[0]\n",
    "b = list[3]\n",
    "\n",
    "I = [a,b]\n",
    "r = np.corrcoef(I)\n",
    "print(r)"
   ]
  },
  {
   "cell_type": "code",
   "execution_count": 10,
   "metadata": {},
   "outputs": [
    {
     "name": "stdout",
     "output_type": "stream",
     "text": [
      "[[1.         0.62112803 0.06451254]\n",
      " [0.62112803 1.         0.46427402]\n",
      " [0.06451254 0.46427402 1.        ]]\n"
     ]
    }
   ],
   "source": [
    "x = data[:,0,0]\n",
    "y = data[:,177,132]\n",
    "z = data[:,354,265]\n",
    "\n",
    "a = [x,y,z]\n",
    "\n",
    "r = np.corrcoef(a)\n",
    "\n",
    "print(r)"
   ]
  },
  {
   "cell_type": "code",
   "execution_count": 63,
   "metadata": {},
   "outputs": [
    {
     "name": "stdout",
     "output_type": "stream",
     "text": [
      "93810\n",
      "93810\n"
     ]
    }
   ],
   "source": [
    "list=[]\n",
    "for x, y in itertools.product(range(354), range(265)):\n",
    "    list.append(data[:,x,y])\n",
    "    \n",
    "print(len(list))\n",
    "print(354*265)\n",
    "print(\"listはかなり大きいのでメモリに気を使うこと\")"
   ]
  },
  {
   "cell_type": "code",
   "execution_count": 104,
   "metadata": {
    "scrolled": true
   },
   "outputs": [
    {
     "name": "stdout",
     "output_type": "stream",
     "text": [
      "[[1.         0.88103337 0.80628423 ... 0.80253051 0.79921869 0.80909786]\n",
      " [0.88103337 1.         0.88861751 ... 0.79413128 0.78450645 0.78935385]\n",
      " [0.80628423 0.88861751 1.         ... 0.79185756 0.78016244 0.7783479 ]\n",
      " ...\n",
      " [0.80253051 0.79413128 0.79185756 ... 1.         0.92936093 0.86177062]\n",
      " [0.79921869 0.78450645 0.78016244 ... 0.92936093 1.         0.9221382 ]\n",
      " [0.80909786 0.78935385 0.7783479  ... 0.86177062 0.9221382  1.        ]]\n",
      "100\n"
     ]
    }
   ],
   "source": [
    "np.set_printoptions(threshold=100)\n",
    "batch=[]\n",
    "for x, y in itertools.product(range(10), range(10)):\n",
    "    batch.append(data[:,x,y])\n",
    "    #print(x,y)\n",
    "\n",
    "r = np.corrcoef(batch)\n",
    "print(r)\n",
    "print(len(r))\n",
    "#print(len(batch[0]))"
   ]
  },
  {
   "cell_type": "code",
   "execution_count": 75,
   "metadata": {},
   "outputs": [
    {
     "name": "stdout",
     "output_type": "stream",
     "text": [
      "354 265\n"
     ]
    }
   ],
   "source": [
    "#print(list[100])\n",
    "#print(list[200])\n",
    "print(6*59,5*53)"
   ]
  },
  {
   "cell_type": "code",
   "execution_count": 119,
   "metadata": {},
   "outputs": [],
   "source": [
    "class MyClass:\n",
    "    def function(self):\n",
    "        print('Hello,Pythonのオブジェクト指向')\n",
    "\n"
   ]
  },
  {
   "cell_type": "code",
   "execution_count": 139,
   "metadata": {},
   "outputs": [],
   "source": [
    "import matplotlib.pyplot as plt\n",
    "\n",
    "class colfig:\n",
    "    def figs(self):\n",
    "        plt.figure(figsize=(20,5))\n",
    "        figsize=(100,100)\n",
    "        plt.xlim(0,1000) \n",
    "        plt.plot(self)\n",
    "        plt.show()\n",
    "    def compare(s,t):\n",
    "        #print(s,t)\n",
    "        r = np.corrcoef(s,t)\n",
    "        print(r)\n",
    "        figs(s)\n",
    "        figs(t)\n",
    "        \n",
    "        \n",
    "\n",
    "s = list[0]\n",
    "t = list[1]\n",
    "\n",
    "#colfig.compare(s,t)\n",
    "\n",
    "\n",
    "    \n",
    "    \n",
    "\n",
    "#93810\n",
    "\n",
    "#figs(list[0])\n",
    "#figs(list[1])\n",
    "#figs(list[93809])"
   ]
  },
  {
   "cell_type": "code",
   "execution_count": 109,
   "metadata": {},
   "outputs": [
    {
     "name": "stdout",
     "output_type": "stream",
     "text": [
      "[[ 1.         -0.01751102]\n",
      " [-0.01751102  1.        ]]\n"
     ]
    }
   ],
   "source": [
    "r = np.corrcoef(s,t)\n",
    "print(r)"
   ]
  },
  {
   "cell_type": "code",
   "execution_count": 107,
   "metadata": {},
   "outputs": [
    {
     "name": "stdout",
     "output_type": "stream",
     "text": [
      "93810\n"
     ]
    }
   ],
   "source": [
    "#pixの相関係数の高いものを検出する >> Ca+の反応場所\n",
    "#354*265は大きすぎるので59分割×53分割して6*5を最小単位とするバッチで処理する (6*59=354\\5*53=265)\n",
    "print(354*265)"
   ]
  },
  {
   "cell_type": "code",
   "execution_count": null,
   "metadata": {},
   "outputs": [],
   "source": []
  }
 ],
 "metadata": {
  "kernelspec": {
   "display_name": "Python 3",
   "language": "python",
   "name": "python3"
  },
  "language_info": {
   "codemirror_mode": {
    "name": "ipython",
    "version": 3
   },
   "file_extension": ".py",
   "mimetype": "text/x-python",
   "name": "python",
   "nbconvert_exporter": "python",
   "pygments_lexer": "ipython3",
   "version": "3.5.6"
  }
 },
 "nbformat": 4,
 "nbformat_minor": 2
}
